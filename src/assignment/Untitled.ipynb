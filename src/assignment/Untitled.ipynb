{
 "cells": [
  {
   "cell_type": "code",
   "execution_count": 16,
   "id": "acdea03e",
   "metadata": {},
   "outputs": [],
   "source": [
    "import numpy as np\n",
    "from sklearn.linear_model import LogisticRegression\n",
    "from scipy import linalg\n",
    "from sklearn.metrics.pairwise import rbf_kernel, polynomial_kernel\n",
    "import random\n",
    "import time\n",
    "import copy\n",
    "from collections import defaultdict, Counter\n",
    "\n",
    "from typing import List\n",
    "import pickle\n",
    "import matplotlib.pyplot as plt\n",
    "import scipy.io\n",
    "from scipy.stats.stats import pearsonr\n",
    "\n",
    "from sklearn.svm import LinearSVC\n",
    "from sklearn.linear_model import SGDClassifier\n",
    "\n",
    "def load_dictionary(path):\n",
    "    \n",
    "    with open(path, \"r\", encoding = \"utf-8\") as f:\n",
    "        \n",
    "        lines = f.readlines()\n",
    "        \n",
    "    k2v, v2k = {}, {}\n",
    "    for line in lines:\n",
    "        \n",
    "        k,v = line.strip().split(\"\\t\")\n",
    "        v = int(v)\n",
    "        k2v[k] = v\n",
    "        v2k[v] = k\n",
    "    \n",
    "    return k2v, v2k\n",
    "\n",
    "\n",
    "\n",
    "def get_TPR(y_pred, y_true, p2i, i2p, y_p_test):\n",
    "    gender = np.where(y_p_test == 1, 'f', 'm')\n",
    "    scores = defaultdict(Counter)\n",
    "    prof_count_total = defaultdict(Counter)\n",
    "    \n",
    "    for y_hat, y, g in zip(y_pred, y_true, gender):\n",
    "        \n",
    "        if y == y_hat:\n",
    "            \n",
    "            scores[i2p[y]][g] += 1\n",
    "        \n",
    "        prof_count_total[i2p[y]][g] += 1\n",
    "    \n",
    "    tprs = defaultdict(dict)\n",
    "    tprs_change = dict()\n",
    "    tprs_ratio = []\n",
    "    \n",
    "    for profession, scores_dict in scores.items():\n",
    "        \n",
    "        good_m, good_f = scores_dict[\"m\"], scores_dict[\"f\"]\n",
    "        prof_total_f = prof_count_total[profession][\"f\"]\n",
    "        prof_total_m = prof_count_total[profession][\"m\"]\n",
    "        if prof_total_m > 0 and prof_total_f > 0:\n",
    "            tpr_m = (good_m) / prof_total_m\n",
    "            tpr_f = (good_f) / prof_total_f\n",
    "\n",
    "            tprs[profession][\"m\"] = tpr_m\n",
    "            tprs[profession][\"f\"] = tpr_f\n",
    "            tprs_ratio.append(0)\n",
    "            tprs_change[profession] = tpr_f - tpr_m\n",
    "        else:\n",
    "            print(f\"profession {profession} missed in tpr-calc:\\n\\\n",
    "                  number of {profession} male in test set {prof_total_m}\\n\\\n",
    "                  number of {profession} female in test set {prof_total_f}\\n\\n\")\n",
    "        \n",
    "    return tprs, tprs_change, np.mean(np.abs(tprs_ratio))\n",
    "    \n",
    "def similarity_vs_tpr(tprs, word2vec, title, measure, prof2fem):\n",
    "    \n",
    "    professions = list(tprs.keys())\n",
    "    #\n",
    "    \"\"\" \n",
    "    sims = dict()\n",
    "    gender_direction = word2vec[\"he\"] - word2vec[\"she\"]\n",
    "    \n",
    "    for p in professions:\n",
    "        sim = word2vec.cosine_similarities(word2vec[p], [gender_direction])[0]\n",
    "        sims[p] = sim\n",
    "    \"\"\"\n",
    "    tpr_lst = [tprs[p] for p in professions]\n",
    "    sim_lst = [prof2fem[p] for p in professions]\n",
    "\n",
    "    #professions = [p.replace(\"_\", \" \") for p in professions if p in word2vec]\n",
    "    \n",
    "    plt.plot(sim_lst, tpr_lst, marker = \"o\", linestyle = \"none\")\n",
    "    plt.xlabel(\"% women\", fontsize = 13)\n",
    "    plt.ylabel(r'$GAP_{female,y}^{TPR}$', fontsize = 13)\n",
    "    for p in professions:\n",
    "        x,y = prof2fem[p], tprs[p]\n",
    "        plt.annotate(p , (x,y), size = 7, color = \"red\")\n",
    "    plt.ylim(-0.4, 0.55)\n",
    "    z = np.polyfit(sim_lst, tpr_lst, 1)\n",
    "    p = np.poly1d(z)\n",
    "    plt.plot(sim_lst,p(sim_lst),\"r--\")\n",
    "    plt.savefig(\"{}_vs_bias_{}_bert\".format(measure, title), dpi = 600)\n",
    "    print(\"Correlation: {}; p-value: {}\".format(*pearsonr(sim_lst, tpr_lst)))\n",
    "    plt.show()\n",
    "\n",
    "def rms_diff(tpr_diff):\n",
    "    \n",
    "    return np.sqrt(np.mean(tpr_diff**2))\n",
    "\n",
    "def tpr_exp(x_test, debiased_x_train, debiased_x_test, y_m_train, y_m_test, y_p_test, y_pred_before, p2i, i2p):\n",
    "\n",
    "    tprs_before, tprs_change_before, mean_ratio_before = get_TPR(y_pred_before, y_m_test, p2i, i2p, y_p_test)\n",
    "    similarity_vs_tpr(tprs_change_before, None, \"before\", \"TPR\", prof2fem)\n",
    "\n",
    "    clf_debiased = LogisticRegression(warm_start = True, penalty = 'l2',\n",
    "                             solver = \"saga\", multi_class = 'multinomial', fit_intercept = False,\n",
    "                             verbose = 5, n_jobs = 90, random_state = 1, max_iter = 100)\n",
    "\n",
    "    clf_debiased.fit(debiased_x_train, y_m_train)\n",
    "    print(f\"\\n\\n\\n================================================\\\n",
    "                \\nSCORE: of profession classifier on debiased train dataset\\\n",
    "                \\n{clf_debiased.score(debiased_x_train, y_m_train)}\\\n",
    "                \\nSCORE: of profession classifier on debiased test dataset\\\n",
    "                \\n{clf_debiased.score(debiased_x_test, y_m_test)}\\\n",
    "                \\n================================================\\n\\n\\n\")\n",
    "    y_pred_after_train = clf_debiased.predict(debiased_x_train)\n",
    "    tprs, tprs_change_after_train, mean_ratio_after = get_TPR(y_pred_after_train, y_m_test, p2i, i2p, y_p_test)\n",
    "    similarity_vs_tpr(tprs_change_after_train, None, \"after\", \"TPR\", prof2fem)\n",
    "    \n",
    "    y_pred_after_test = clf_debiased.predict(debiased_x_test)\n",
    "    tprs, tprs_change_after_test, mean_ratio_after = get_TPR(y_pred_after_test, y_m_test, p2i, i2p, y_p_test)\n",
    "    similarity_vs_tpr(tprs_change_after_test, None, \"after\", \"TPR\", prof2fem)\n",
    "\n",
    "    change_vals_before = np.array(list((tprs_change_before.values())))\n",
    "    change_vals_after_train = np.array(list(tprs_change_after_train.values()))\n",
    "    change_vals_after_test = np.array(list(tprs_change_after_test.values()))\n",
    "\n",
    "    print(\"rms-diff before: {}; rms-diff after for train set: {}; rms-diff after for test set: {}\".format(rms_diff(change_vals_before), rms_diff(change_vals_after_train), rms_diff(change_vals_after_test)))\n",
    "\n",
    "def get_TPR_emoji(y_main, y_hat_main, y_protected):\n",
    "    \n",
    "    all_y = list(Counter(y_main).keys())\n",
    "    \n",
    "    protected_vals = defaultdict(dict)\n",
    "    for label in all_y:\n",
    "        for i in range(2):\n",
    "            used_vals = (y_main == label) & (y_protected == i)\n",
    "            y_label = y_main[used_vals]\n",
    "            y_hat_label = y_hat_main[used_vals]\n",
    "            protected_vals['y:{}'.format(label)]['p:{}'.format(i)] = (y_label == y_hat_label).mean()\n",
    "            \n",
    "    diffs = {}\n",
    "    for k, v in protected_vals.items():\n",
    "        vals = list(v.values())\n",
    "        diffs[k] = vals[0] - vals[1]\n",
    "    return protected_vals, diffs\n",
    "\n",
    "def rms(arr):\n",
    "    return np.sqrt(np.mean(np.square(arr)))\n",
    "\n",
    "    \n",
    "p2i, i2p = load_dictionary(\"data/old/profession2index.txt\")\n",
    "g2i, i2g = load_dictionary(\"data/old/gender2index.txt\")\n",
    "prof2fem = {'professor': 0.4533699535765501, 'psychologist': 0.627327974906881, 'pastor': 0.2583668005354752, 'comedian': 0.21605667060212513, 'nurse': 0.9126009126009126, 'yoga_teacher': 0.825, 'attorney': 0.3766122913505311, 'photographer': 0.3563658099222953, 'composer': 0.16329625884732052, 'model': 0.7858407079646018, 'surgeon': 0.12832108535895986, 'physician': 0.4158485273492286, 'software_engineer': 0.17130434782608694, 'poet': 0.5133630289532294, 'painter': 0.47116788321167885, 'dj': 0.1636828644501279, 'journalist': 0.5159589626674266, 'architect': 0.23372781065088757, 'paralegal': 0.8618677042801557, 'dentist': 0.3672911787665886, 'personal_trainer': 0.4410377358490566, 'teacher': 0.5943396226415094, 'accountant': 0.3950091296409008, 'interior_designer': 0.7874493927125507, 'dietitian': 0.934412955465587, 'filmmaker': 0.3533007334963325, 'chiropractor': 0.3069908814589666, 'rapper': 0.09438775510204081}\n",
    "\n"
   ]
  },
  {
   "cell_type": "code",
   "execution_count": 7,
   "id": "835b29d9",
   "metadata": {},
   "outputs": [],
   "source": [
    "saved_dataset = np.load(f\"data/old/fair_biography_prof_gender/BERT/all.npz\")\n",
    "\n",
    "x_train = saved_dataset['x_train']\n",
    "y_m_train = saved_dataset['y_m_train']\n",
    "y_p_train = saved_dataset['y_p_train']\n",
    "\n",
    "x_dev = saved_dataset['x_dev']\n",
    "y_p_dev = saved_dataset['y_p_dev']\n",
    "y_m_dev = saved_dataset['y_m_dev']\n",
    "\n",
    "x_test = saved_dataset['x_test']\n",
    "y_p_test = saved_dataset['y_p_test']\n",
    "y_m_test = saved_dataset['y_m_test']\n",
    "\n",
    "y_p_train_2d = np.asarray([y_p_train, - y_p_train + 1]).T\n",
    "\n",
    "saved_model = scipy.io.loadmat('data/projection_matrix/BERT/old_paper.mat')\n",
    "U_experiment = saved_model['U_experiment']\n",
    "U_best = saved_model['U_best']\n",
    "\n",
    "random.seed(0)\n",
    "np.random.seed(0)\n",
    "\n",
    "clf_original = LogisticRegression(warm_start = True, penalty = 'l2',\n",
    "                         solver = \"saga\", multi_class = 'multinomial', fit_intercept = False,\n",
    "                         verbose = 5, n_jobs = 90, random_state = 1, max_iter = 7)\n",
    "                         \n",
    "\n",
    "clf_original.fit(x_train, y_m_train)\n",
    "print(f\"Score of profession classifier on original(biased) dataset \\n{clf_original.score(x_test[:N_test, :], y_m_test[:N_test])}\")\n",
    "\n",
    "y_pred_before = clf_original.predict(x_test)"
   ]
  },
  {
   "cell_type": "code",
   "execution_count": 30,
   "id": "9edae001",
   "metadata": {},
   "outputs": [
    {
     "name": "stdout",
     "output_type": "stream",
     "text": [
      "Correlation: 0.8911210577501446; p-value: 2.060745709586484e-10\n"
     ]
    },
    {
     "data": {
      "image/png": "[encoded data removed]",
      "text/plain": [
       "<Figure size 432x288 with 1 Axes>"
      ]
     },
     "metadata": {
      "needs_background": "light"
     },
     "output_type": "display_data"
    },
    {
     "name": "stderr",
     "output_type": "stream",
     "text": [
      "[Parallel(n_jobs=90)]: Using backend ThreadingBackend with 90 concurrent workers.\n"
     ]
    },
    {
     "name": "stdout",
     "output_type": "stream",
     "text": [
      "max_iter reached after 849 seconds\n"
     ]
    },
    {
     "name": "stderr",
     "output_type": "stream",
     "text": [
      "/work/sc066/sc066/shunshao/anaconda3/envs/ksal/lib/python3.7/site-packages/sklearn/linear_model/_sag.py:329: ConvergenceWarning: The max_iter was reached which means the coef_ did not converge\n",
      "  \"the coef_ did not converge\", ConvergenceWarning)\n",
      "[Parallel(n_jobs=90)]: Done   1 out of   1 | elapsed: 14.2min finished\n"
     ]
    },
    {
     "name": "stdout",
     "output_type": "stream",
     "text": [
      "\n",
      "\n",
      "\n",
      "================================================                \n",
      "SCORE: of profession classifier on debiased train dataset                \n",
      "0.8301193878368633                \n",
      "SCORE: of profession classifier on debiased test dataset                \n",
      "0.7807710977047362                \n",
      "================================================\n",
      "\n",
      "\n",
      "\n",
      "Correlation: -0.16995196470277413; p-value: 0.4381780602790577\n"
     ]
    },
    {
     "data": {
      "image/png": "[encoded data removed]",
      "text/plain": [
       "<Figure size 432x288 with 1 Axes>"
      ]
     },
     "metadata": {
      "needs_background": "light"
     },
     "output_type": "display_data"
    },
    {
     "name": "stdout",
     "output_type": "stream",
     "text": [
      "Correlation: 0.8092089830476259; p-value: 1.8577043588108266e-07\n"
     ]
    },
    {
     "data": {
      "image/png": "[encoded data removed]",
      "text/plain": [
       "<Figure size 432x288 with 1 Axes>"
      ]
     },
     "metadata": {
      "needs_background": "light"
     },
     "output_type": "display_data"
    },
    {
     "name": "stdout",
     "output_type": "stream",
     "text": [
      "rms-diff before: 0.2138363635561522; rms-diff after for train set: 0.01773768924554149; rms-diff after for test set: 0.17102205277580257\n"
     ]
    }
   ],
   "source": [
    "removal = 2\n",
    "u_r = U_experiment[:, removal:]\n",
    "proj = u_r @ u_r.T\n",
    "P = proj\n",
    "\n",
    "debiased_x_train = P.dot(x_train.T).T\n",
    "debiased_x_dev = P.dot(x_dev.T).T\n",
    "debiased_x_test = P.dot(x_test.T).T\n",
    "\n",
    "\n",
    "tpr_exp(x_test, debiased_x_train, debiased_x_test, \\\n",
    "        y_m_train, y_m_test, y_p_test, y_pred_before, p2i, i2p)\n"
   ]
  },
  {
   "cell_type": "code",
   "execution_count": 31,
   "id": "323c1f39",
   "metadata": {},
   "outputs": [
    {
     "name": "stdout",
     "output_type": "stream",
     "text": [
      "Correlation: 0.8911210577501446; p-value: 2.060745709586484e-10\n"
     ]
    },
    {
     "data": {
      "image/png": "[encoded data removed]",
      "text/plain": [
       "<Figure size 432x288 with 1 Axes>"
      ]
     },
     "metadata": {
      "needs_background": "light"
     },
     "output_type": "display_data"
    },
    {
     "name": "stderr",
     "output_type": "stream",
     "text": [
      "[Parallel(n_jobs=90)]: Using backend ThreadingBackend with 90 concurrent workers.\n"
     ]
    },
    {
     "name": "stdout",
     "output_type": "stream",
     "text": [
      "Epoch 1, change: 1.00000000\n",
      "Epoch 2, change: 0.28030246\n",
      "Epoch 3, change: 0.15887126\n",
      "Epoch 4, change: 0.12255900\n",
      "Epoch 5, change: 0.09690081\n",
      "Epoch 6, change: 0.07314624\n",
      "Epoch 7, change: 0.05809540\n",
      "Epoch 1, change: 1.00000000\n",
      "Epoch 2, change: 0.20264101\n",
      "Epoch 3, change: 0.14048989\n",
      "Epoch 4, change: 0.09747685\n",
      "Epoch 5, change: 0.07013387\n",
      "Epoch 6, change: 0.07586446\n",
      "Epoch 7, change: 0.05562925\n",
      "Epoch 1, change: 1.00000000\n",
      "Epoch 2, change: 0.20548315\n",
      "Epoch 3, change: 0.12766235\n",
      "Epoch 4, change: 0.08274410\n",
      "Epoch 5, change: 0.06554013\n",
      "Epoch 6, change: 0.05534338\n",
      "Epoch 7, change: 0.04736664\n",
      "Epoch 1, change: 1.00000000\n",
      "Epoch 2, change: 0.20548315\n",
      "Epoch 3, change: 0.12766235\n",
      "Epoch 4, change: 0.08274410\n",
      "Epoch 5, change: 0.06554013\n",
      "Epoch 6, change: 0.05534338\n",
      "Epoch 7, change: 0.04736664\n",
      "Epoch 1, change: 1.00000000\n",
      "Epoch 2, change: 0.24755249\n",
      "Epoch 3, change: 0.13562587\n",
      "Epoch 4, change: 0.08305347\n",
      "Epoch 5, change: 0.06617381\n",
      "Epoch 6, change: 0.05344929\n",
      "Epoch 7, change: 0.04202174\n",
      "Epoch 8, change: 0.03525703\n",
      "Epoch 9, change: 0.03317339\n",
      "Epoch 10, change: 0.02636645\n",
      "Epoch 11, change: 0.02430324\n",
      "Epoch 12, change: 0.02319593\n",
      "Epoch 13, change: 0.01983428\n",
      "Epoch 14, change: 0.01806837\n",
      "Epoch 15, change: 0.01608263\n",
      "Epoch 16, change: 0.01486886\n",
      "Epoch 17, change: 0.01421286\n",
      "Epoch 18, change: 0.01238417\n",
      "Epoch 19, change: 0.01164976\n",
      "Epoch 20, change: 0.01041890\n",
      "Epoch 21, change: 0.00993069\n",
      "Epoch 22, change: 0.00942706\n",
      "Epoch 23, change: 0.00873313\n",
      "Epoch 24, change: 0.00817945\n",
      "Epoch 25, change: 0.00766026\n",
      "Epoch 26, change: 0.00716079\n",
      "Epoch 27, change: 0.00663471\n",
      "Epoch 28, change: 0.00623883\n",
      "Epoch 29, change: 0.00602174\n",
      "Epoch 30, change: 0.00564792\n",
      "Epoch 31, change: 0.00539392\n",
      "Epoch 32, change: 0.00504820\n",
      "Epoch 33, change: 0.00489371\n",
      "Epoch 34, change: 0.00464066\n",
      "Epoch 35, change: 0.00445586\n",
      "Epoch 36, change: 0.00422675\n",
      "Epoch 37, change: 0.00411038\n",
      "Epoch 38, change: 0.00394777\n",
      "Epoch 39, change: 0.00383537\n",
      "Epoch 40, change: 0.00377071\n",
      "Epoch 41, change: 0.00364615\n",
      "Epoch 42, change: 0.00350434\n",
      "Epoch 43, change: 0.00345612\n",
      "Epoch 44, change: 0.00327912\n",
      "Epoch 45, change: 0.00321912\n",
      "Epoch 46, change: 0.00311193\n",
      "Epoch 47, change: 0.00304792\n",
      "Epoch 48, change: 0.00295623\n",
      "Epoch 49, change: 0.00289620\n",
      "Epoch 50, change: 0.00279558\n",
      "Epoch 51, change: 0.00277825\n",
      "Epoch 52, change: 0.00266042\n",
      "Epoch 53, change: 0.00261926\n",
      "Epoch 54, change: 0.00253478\n",
      "Epoch 55, change: 0.00250969\n",
      "Epoch 56, change: 0.00241177\n",
      "Epoch 57, change: 0.00238896\n",
      "Epoch 58, change: 0.00231308\n",
      "Epoch 59, change: 0.00227021\n",
      "Epoch 60, change: 0.00219704\n",
      "Epoch 61, change: 0.00215607\n",
      "Epoch 62, change: 0.00213359\n",
      "Epoch 63, change: 0.00204402\n",
      "Epoch 64, change: 0.00204755\n",
      "Epoch 65, change: 0.00193191\n",
      "Epoch 66, change: 0.00192580\n",
      "Epoch 67, change: 0.00191061\n",
      "Epoch 68, change: 0.00181480\n",
      "Epoch 69, change: 0.00179212\n",
      "Epoch 70, change: 0.00175822\n",
      "Epoch 71, change: 0.00171387\n",
      "Epoch 72, change: 0.00170624\n",
      "Epoch 73, change: 0.00165031\n",
      "Epoch 74, change: 0.00160393\n",
      "Epoch 75, change: 0.00157973\n",
      "Epoch 76, change: 0.00153336\n",
      "Epoch 77, change: 0.00150413\n",
      "Epoch 78, change: 0.00146009\n",
      "Epoch 79, change: 0.00143977\n",
      "Epoch 80, change: 0.00140682\n",
      "Epoch 81, change: 0.00138302\n",
      "Epoch 82, change: 0.00134521\n",
      "Epoch 83, change: 0.00132454\n",
      "Epoch 84, change: 0.00129619\n",
      "Epoch 85, change: 0.00126598\n",
      "Epoch 86, change: 0.00121973\n",
      "Epoch 87, change: 0.00120708\n",
      "Epoch 88, change: 0.00117994\n",
      "Epoch 89, change: 0.00115251\n",
      "Epoch 90, change: 0.00114165\n",
      "Epoch 91, change: 0.00109056\n",
      "Epoch 92, change: 0.00107721\n",
      "Epoch 93, change: 0.00106453\n",
      "Epoch 94, change: 0.00103193\n",
      "Epoch 95, change: 0.00100686\n",
      "Epoch 96, change: 0.00100236\n",
      "Epoch 97, change: 0.00097470\n",
      "Epoch 98, change: 0.00094988\n",
      "Epoch 99, change: 0.00092803\n",
      "Epoch 100, change: 0.00091319\n",
      "Epoch 1, change: 1.00000000\n",
      "Epoch 2, change: 0.24427491\n",
      "Epoch 3, change: 0.14226337\n",
      "Epoch 4, change: 0.08758748\n",
      "Epoch 5, change: 0.06456374\n",
      "Epoch 6, change: 0.05508068\n",
      "Epoch 7, change: 0.04484320\n",
      "Epoch 8, change: 0.03812364\n",
      "Epoch 9, change: 0.03574187\n",
      "Epoch 10, change: 0.02897482\n",
      "Epoch 11, change: 0.02661381\n",
      "Epoch 12, change: 0.02418999\n",
      "Epoch 13, change: 0.02110308\n",
      "Epoch 14, change: 0.01928434\n",
      "Epoch 15, change: 0.017"
     ]
    },
    {
     "ename": "KeyboardInterrupt",
     "evalue": "",
     "output_type": "error",
     "traceback": [
      "\u001b[0;31m---------------------------------------------------------------------------\u001b[0m",
      "\u001b[0;31mKeyboardInterrupt\u001b[0m                         Traceback (most recent call last)",
      "\u001b[0;32m/tmp/ipykernel_3105418/702122178.py\u001b[0m in \u001b[0;36m<module>\u001b[0;34m\u001b[0m\n\u001b[1;32m     10\u001b[0m \u001b[0;34m\u001b[0m\u001b[0m\n\u001b[1;32m     11\u001b[0m tpr_exp(x_test, debiased_x_train, debiased_x_test, \\\n\u001b[0;32m---> 12\u001b[0;31m         y_m_train, y_m_test, y_p_test, y_pred_before, p2i, i2p)\n\u001b[0m",
      "\u001b[0;32m/tmp/ipykernel_3105418/3691480056.py\u001b[0m in \u001b[0;36mtpr_exp\u001b[0;34m(x_test, debiased_x_train, debiased_x_test, y_m_train, y_m_test, y_p_test, y_pred_before, p2i, i2p)\u001b[0m\n\u001b[1;32m     80\u001b[0m                              verbose = 5, n_jobs = 90, random_state = 1, max_iter = 100)\n\u001b[1;32m     81\u001b[0m \u001b[0;34m\u001b[0m\u001b[0m\n\u001b[0;32m---> 82\u001b[0;31m     \u001b[0mclf_debiased\u001b[0m\u001b[0;34m.\u001b[0m\u001b[0mfit\u001b[0m\u001b[0;34m(\u001b[0m\u001b[0mdebiased_x_train\u001b[0m\u001b[0;34m,\u001b[0m \u001b[0my_m_train\u001b[0m\u001b[0;34m)\u001b[0m\u001b[0;34m\u001b[0m\u001b[0;34m\u001b[0m\u001b[0m\n\u001b[0m\u001b[1;32m     83\u001b[0m     print(f\"\\n\\n\\n================================================\\\n\u001b[1;32m     84\u001b[0m                 \u001b[0;31m\\\u001b[0m\u001b[0mnSCORE\u001b[0m\u001b[0;34m:\u001b[0m \u001b[0mof\u001b[0m \u001b[0mprofession\u001b[0m \u001b[0mclassifier\u001b[0m \u001b[0mon\u001b[0m \u001b[0mdebiased\u001b[0m \u001b[0mtrain\u001b[0m \u001b[0mdataset\u001b[0m\u001b[0;31m\\\u001b[0m\u001b[0;34m\u001b[0m\u001b[0;34m\u001b[0m\u001b[0m\n",
      "\u001b[0;32m/work/sc066/sc066/shunshao/anaconda3/envs/ksal/lib/python3.7/site-packages/sklearn/linear_model/_logistic.py\u001b[0m in \u001b[0;36mfit\u001b[0;34m(self, X, y, sample_weight)\u001b[0m\n\u001b[1;32m   1414\u001b[0m                       \u001b[0mpenalty\u001b[0m\u001b[0;34m=\u001b[0m\u001b[0mpenalty\u001b[0m\u001b[0;34m,\u001b[0m \u001b[0mmax_squared_sum\u001b[0m\u001b[0;34m=\u001b[0m\u001b[0mmax_squared_sum\u001b[0m\u001b[0;34m,\u001b[0m\u001b[0;34m\u001b[0m\u001b[0;34m\u001b[0m\u001b[0m\n\u001b[1;32m   1415\u001b[0m                       sample_weight=sample_weight)\n\u001b[0;32m-> 1416\u001b[0;31m             for class_, warm_start_coef_ in zip(classes_, warm_start_coef))\n\u001b[0m\u001b[1;32m   1417\u001b[0m \u001b[0;34m\u001b[0m\u001b[0m\n\u001b[1;32m   1418\u001b[0m         \u001b[0mfold_coefs_\u001b[0m\u001b[0;34m,\u001b[0m \u001b[0m_\u001b[0m\u001b[0;34m,\u001b[0m \u001b[0mn_iter_\u001b[0m \u001b[0;34m=\u001b[0m \u001b[0mzip\u001b[0m\u001b[0;34m(\u001b[0m\u001b[0;34m*\u001b[0m\u001b[0mfold_coefs_\u001b[0m\u001b[0;34m)\u001b[0m\u001b[0;34m\u001b[0m\u001b[0;34m\u001b[0m\u001b[0m\n",
      "\u001b[0;32m/work/sc066/sc066/shunshao/anaconda3/envs/ksal/lib/python3.7/site-packages/joblib/parallel.py\u001b[0m in \u001b[0;36m__call__\u001b[0;34m(self, iterable)\u001b[0m\n\u001b[1;32m   1054\u001b[0m \u001b[0;34m\u001b[0m\u001b[0m\n\u001b[1;32m   1055\u001b[0m             \u001b[0;32mwith\u001b[0m \u001b[0mself\u001b[0m\u001b[0;34m.\u001b[0m\u001b[0m_backend\u001b[0m\u001b[0;34m.\u001b[0m\u001b[0mretrieval_context\u001b[0m\u001b[0;34m(\u001b[0m\u001b[0;34m)\u001b[0m\u001b[0;34m:\u001b[0m\u001b[0;34m\u001b[0m\u001b[0;34m\u001b[0m\u001b[0m\n\u001b[0;32m-> 1056\u001b[0;31m                 \u001b[0mself\u001b[0m\u001b[0;34m.\u001b[0m\u001b[0mretrieve\u001b[0m\u001b[0;34m(\u001b[0m\u001b[0;34m)\u001b[0m\u001b[0;34m\u001b[0m\u001b[0;34m\u001b[0m\u001b[0m\n\u001b[0m\u001b[1;32m   1057\u001b[0m             \u001b[0;31m# Make sure that we get a last message telling us we are done\u001b[0m\u001b[0;34m\u001b[0m\u001b[0;34m\u001b[0m\u001b[0;34m\u001b[0m\u001b[0m\n\u001b[1;32m   1058\u001b[0m             \u001b[0melapsed_time\u001b[0m \u001b[0;34m=\u001b[0m \u001b[0mtime\u001b[0m\u001b[0;34m.\u001b[0m\u001b[0mtime\u001b[0m\u001b[0;34m(\u001b[0m\u001b[0;34m)\u001b[0m \u001b[0;34m-\u001b[0m \u001b[0mself\u001b[0m\u001b[0;34m.\u001b[0m\u001b[0m_start_time\u001b[0m\u001b[0;34m\u001b[0m\u001b[0;34m\u001b[0m\u001b[0m\n",
      "\u001b[0;32m/work/sc066/sc066/shunshao/anaconda3/envs/ksal/lib/python3.7/site-packages/joblib/parallel.py\u001b[0m in \u001b[0;36mretrieve\u001b[0;34m(self)\u001b[0m\n\u001b[1;32m    933\u001b[0m             \u001b[0;32mtry\u001b[0m\u001b[0;34m:\u001b[0m\u001b[0;34m\u001b[0m\u001b[0;34m\u001b[0m\u001b[0m\n\u001b[1;32m    934\u001b[0m                 \u001b[0;32mif\u001b[0m \u001b[0mgetattr\u001b[0m\u001b[0;34m(\u001b[0m\u001b[0mself\u001b[0m\u001b[0;34m.\u001b[0m\u001b[0m_backend\u001b[0m\u001b[0;34m,\u001b[0m \u001b[0;34m'supports_timeout'\u001b[0m\u001b[0;34m,\u001b[0m \u001b[0;32mFalse\u001b[0m\u001b[0;34m)\u001b[0m\u001b[0;34m:\u001b[0m\u001b[0;34m\u001b[0m\u001b[0;34m\u001b[0m\u001b[0m\n\u001b[0;32m--> 935\u001b[0;31m                     \u001b[0mself\u001b[0m\u001b[0;34m.\u001b[0m\u001b[0m_output\u001b[0m\u001b[0;34m.\u001b[0m\u001b[0mextend\u001b[0m\u001b[0;34m(\u001b[0m\u001b[0mjob\u001b[0m\u001b[0;34m.\u001b[0m\u001b[0mget\u001b[0m\u001b[0;34m(\u001b[0m\u001b[0mtimeout\u001b[0m\u001b[0;34m=\u001b[0m\u001b[0mself\u001b[0m\u001b[0;34m.\u001b[0m\u001b[0mtimeout\u001b[0m\u001b[0;34m)\u001b[0m\u001b[0;34m)\u001b[0m\u001b[0;34m\u001b[0m\u001b[0;34m\u001b[0m\u001b[0m\n\u001b[0m\u001b[1;32m    936\u001b[0m                 \u001b[0;32melse\u001b[0m\u001b[0;34m:\u001b[0m\u001b[0;34m\u001b[0m\u001b[0;34m\u001b[0m\u001b[0m\n\u001b[1;32m    937\u001b[0m                     \u001b[0mself\u001b[0m\u001b[0;34m.\u001b[0m\u001b[0m_output\u001b[0m\u001b[0;34m.\u001b[0m\u001b[0mextend\u001b[0m\u001b[0;34m(\u001b[0m\u001b[0mjob\u001b[0m\u001b[0;34m.\u001b[0m\u001b[0mget\u001b[0m\u001b[0;34m(\u001b[0m\u001b[0;34m)\u001b[0m\u001b[0;34m)\u001b[0m\u001b[0;34m\u001b[0m\u001b[0;34m\u001b[0m\u001b[0m\n",
      "\u001b[0;32m/work/sc066/sc066/shunshao/anaconda3/envs/ksal/lib/python3.7/multiprocessing/pool.py\u001b[0m in \u001b[0;36mget\u001b[0;34m(self, timeout)\u001b[0m\n\u001b[1;32m    649\u001b[0m \u001b[0;34m\u001b[0m\u001b[0m\n\u001b[1;32m    650\u001b[0m     \u001b[0;32mdef\u001b[0m \u001b[0mget\u001b[0m\u001b[0;34m(\u001b[0m\u001b[0mself\u001b[0m\u001b[0;34m,\u001b[0m \u001b[0mtimeout\u001b[0m\u001b[0;34m=\u001b[0m\u001b[0;32mNone\u001b[0m\u001b[0;34m)\u001b[0m\u001b[0;34m:\u001b[0m\u001b[0;34m\u001b[0m\u001b[0;34m\u001b[0m\u001b[0m\n\u001b[0;32m--> 651\u001b[0;31m         \u001b[0mself\u001b[0m\u001b[0;34m.\u001b[0m\u001b[0mwait\u001b[0m\u001b[0;34m(\u001b[0m\u001b[0mtimeout\u001b[0m\u001b[0;34m)\u001b[0m\u001b[0;34m\u001b[0m\u001b[0;34m\u001b[0m\u001b[0m\n\u001b[0m\u001b[1;32m    652\u001b[0m         \u001b[0;32mif\u001b[0m \u001b[0;32mnot\u001b[0m \u001b[0mself\u001b[0m\u001b[0;34m.\u001b[0m\u001b[0mready\u001b[0m\u001b[0;34m(\u001b[0m\u001b[0;34m)\u001b[0m\u001b[0;34m:\u001b[0m\u001b[0;34m\u001b[0m\u001b[0;34m\u001b[0m\u001b[0m\n\u001b[1;32m    653\u001b[0m             \u001b[0;32mraise\u001b[0m \u001b[0mTimeoutError\u001b[0m\u001b[0;34m\u001b[0m\u001b[0;34m\u001b[0m\u001b[0m\n",
      "\u001b[0;32m/work/sc066/sc066/shunshao/anaconda3/envs/ksal/lib/python3.7/multiprocessing/pool.py\u001b[0m in \u001b[0;36mwait\u001b[0;34m(self, timeout)\u001b[0m\n\u001b[1;32m    646\u001b[0m \u001b[0;34m\u001b[0m\u001b[0m\n\u001b[1;32m    647\u001b[0m     \u001b[0;32mdef\u001b[0m \u001b[0mwait\u001b[0m\u001b[0;34m(\u001b[0m\u001b[0mself\u001b[0m\u001b[0;34m,\u001b[0m \u001b[0mtimeout\u001b[0m\u001b[0;34m=\u001b[0m\u001b[0;32mNone\u001b[0m\u001b[0;34m)\u001b[0m\u001b[0;34m:\u001b[0m\u001b[0;34m\u001b[0m\u001b[0;34m\u001b[0m\u001b[0m\n\u001b[0;32m--> 648\u001b[0;31m         \u001b[0mself\u001b[0m\u001b[0;34m.\u001b[0m\u001b[0m_event\u001b[0m\u001b[0;34m.\u001b[0m\u001b[0mwait\u001b[0m\u001b[0;34m(\u001b[0m\u001b[0mtimeout\u001b[0m\u001b[0;34m)\u001b[0m\u001b[0;34m\u001b[0m\u001b[0;34m\u001b[0m\u001b[0m\n\u001b[0m\u001b[1;32m    649\u001b[0m \u001b[0;34m\u001b[0m\u001b[0m\n\u001b[1;32m    650\u001b[0m     \u001b[0;32mdef\u001b[0m \u001b[0mget\u001b[0m\u001b[0;34m(\u001b[0m\u001b[0mself\u001b[0m\u001b[0;34m,\u001b[0m \u001b[0mtimeout\u001b[0m\u001b[0;34m=\u001b[0m\u001b[0;32mNone\u001b[0m\u001b[0;34m)\u001b[0m\u001b[0;34m:\u001b[0m\u001b[0;34m\u001b[0m\u001b[0;34m\u001b[0m\u001b[0m\n",
      "\u001b[0;32m/work/sc066/sc066/shunshao/anaconda3/envs/ksal/lib/python3.7/threading.py\u001b[0m in \u001b[0;36mwait\u001b[0;34m(self, timeout)\u001b[0m\n\u001b[1;32m    550\u001b[0m             \u001b[0msignaled\u001b[0m \u001b[0;34m=\u001b[0m \u001b[0mself\u001b[0m\u001b[0;34m.\u001b[0m\u001b[0m_flag\u001b[0m\u001b[0;34m\u001b[0m\u001b[0;34m\u001b[0m\u001b[0m\n\u001b[1;32m    551\u001b[0m             \u001b[0;32mif\u001b[0m \u001b[0;32mnot\u001b[0m \u001b[0msignaled\u001b[0m\u001b[0;34m:\u001b[0m\u001b[0;34m\u001b[0m\u001b[0;34m\u001b[0m\u001b[0m\n\u001b[0;32m--> 552\u001b[0;31m                 \u001b[0msignaled\u001b[0m \u001b[0;34m=\u001b[0m \u001b[0mself\u001b[0m\u001b[0;34m.\u001b[0m\u001b[0m_cond\u001b[0m\u001b[0;34m.\u001b[0m\u001b[0mwait\u001b[0m\u001b[0;34m(\u001b[0m\u001b[0mtimeout\u001b[0m\u001b[0;34m)\u001b[0m\u001b[0;34m\u001b[0m\u001b[0;34m\u001b[0m\u001b[0m\n\u001b[0m\u001b[1;32m    553\u001b[0m             \u001b[0;32mreturn\u001b[0m \u001b[0msignaled\u001b[0m\u001b[0;34m\u001b[0m\u001b[0;34m\u001b[0m\u001b[0m\n\u001b[1;32m    554\u001b[0m \u001b[0;34m\u001b[0m\u001b[0m\n",
      "\u001b[0;32m/work/sc066/sc066/shunshao/anaconda3/envs/ksal/lib/python3.7/threading.py\u001b[0m in \u001b[0;36mwait\u001b[0;34m(self, timeout)\u001b[0m\n\u001b[1;32m    294\u001b[0m         \u001b[0;32mtry\u001b[0m\u001b[0;34m:\u001b[0m    \u001b[0;31m# restore state no matter what (e.g., KeyboardInterrupt)\u001b[0m\u001b[0;34m\u001b[0m\u001b[0;34m\u001b[0m\u001b[0m\n\u001b[1;32m    295\u001b[0m             \u001b[0;32mif\u001b[0m \u001b[0mtimeout\u001b[0m \u001b[0;32mis\u001b[0m \u001b[0;32mNone\u001b[0m\u001b[0;34m:\u001b[0m\u001b[0;34m\u001b[0m\u001b[0;34m\u001b[0m\u001b[0m\n\u001b[0;32m--> 296\u001b[0;31m                 \u001b[0mwaiter\u001b[0m\u001b[0;34m.\u001b[0m\u001b[0macquire\u001b[0m\u001b[0;34m(\u001b[0m\u001b[0;34m)\u001b[0m\u001b[0;34m\u001b[0m\u001b[0;34m\u001b[0m\u001b[0m\n\u001b[0m\u001b[1;32m    297\u001b[0m                 \u001b[0mgotit\u001b[0m \u001b[0;34m=\u001b[0m \u001b[0;32mTrue\u001b[0m\u001b[0;34m\u001b[0m\u001b[0;34m\u001b[0m\u001b[0m\n\u001b[1;32m    298\u001b[0m             \u001b[0;32melse\u001b[0m\u001b[0;34m:\u001b[0m\u001b[0;34m\u001b[0m\u001b[0;34m\u001b[0m\u001b[0m\n",
      "\u001b[0;31mKeyboardInterrupt\u001b[0m: "
     ]
    }
   ],
   "source": [
    "removal = 2\n",
    "u_r = U_best[:, removal:]\n",
    "proj = u_r @ u_r.T\n",
    "P = proj\n",
    "\n",
    "debiased_x_train = P.dot(x_train.T).T\n",
    "debiased_x_dev = P.dot(x_dev.T).T\n",
    "debiased_x_test = P.dot(x_test.T).T\n",
    "\n",
    "\n",
    "tpr_exp(x_test, debiased_x_train, debiased_x_test, \\\n",
    "        y_m_train, y_m_test, y_p_test, y_pred_before, p2i, i2p)"
   ]
  },
  {
   "cell_type": "code",
   "execution_count": null,
   "id": "e376a422",
   "metadata": {},
   "outputs": [],
   "source": []
  },
  {
   "cell_type": "code",
   "execution_count": null,
   "id": "0a2e3689",
   "metadata": {},
   "outputs": [],
   "source": [
    "saved_dataset = np.load(f\"data/old/fair_biography_prof_gender/FastText/all.npz\")\n",
    "\n",
    "x_train = saved_dataset['x_train']\n",
    "y_m_train = saved_dataset['y_m_train']\n",
    "y_p_train = saved_dataset['y_p_train']\n",
    "\n",
    "x_dev = saved_dataset['x_dev']\n",
    "y_p_dev = saved_dataset['y_p_dev']\n",
    "y_m_dev = saved_dataset['y_m_dev']\n",
    "\n",
    "x_test = saved_dataset['x_test']\n",
    "y_p_test = saved_dataset['y_p_test']\n",
    "y_m_test = saved_dataset['y_m_test']\n",
    "\n",
    "y_p_train_2d = np.asarray([y_p_train, - y_p_train + 1]).T\n",
    "\n",
    "saved_model = scipy.io.loadmat('data/projection_matrix/FastText/old_paper.mat')\n",
    "U_experiment = saved_model['U_experiment']\n",
    "U_best = saved_model['U_best']\n",
    "\n",
    "random.seed(0)\n",
    "np.random.seed(0)\n",
    "\n",
    "clf_original = LogisticRegression(warm_start = True, penalty = 'l2',\n",
    "                         solver = \"saga\", multi_class = 'multinomial', fit_intercept = False,\n",
    "                         verbose = 5, n_jobs = 90, random_state = 1, max_iter = 7)\n",
    "                         \n",
    "\n",
    "clf_original.fit(x_train, y_m_train)\n",
    "print(f\"Score of profession classifier on original(biased) dataset \\n{clf_original.score(x_test[:N_test, :], y_m_test[:N_test])}\")\n",
    "\n",
    "y_pred_before = clf_original.predict(x_test)"
   ]
  },
  {
   "cell_type": "code",
   "execution_count": null,
   "id": "cb97d5e6",
   "metadata": {},
   "outputs": [],
   "source": [
    "removal = 2\n",
    "u_r = U_experiment[:, removal:]\n",
    "proj = u_r @ u_r.T\n",
    "P = proj\n",
    "\n",
    "debiased_x_train = P.dot(x_train.T).T\n",
    "debiased_x_dev = P.dot(x_dev.T).T\n",
    "debiased_x_test = P.dot(x_test.T).T\n",
    "\n",
    "\n",
    "tpr_exp(x_test, debiased_x_train, debiased_x_test, \\\n",
    "        y_m_train, y_m_test, y_p_test, y_pred_before, p2i, i2p)\n"
   ]
  },
  {
   "cell_type": "code",
   "execution_count": null,
   "id": "d0d7c59f",
   "metadata": {},
   "outputs": [],
   "source": [
    "removal = 2\n",
    "u_r = U_best[:, removal:]\n",
    "proj = u_r @ u_r.T\n",
    "P = proj\n",
    "\n",
    "debiased_x_train = P.dot(x_train.T).T\n",
    "debiased_x_dev = P.dot(x_dev.T).T\n",
    "debiased_x_test = P.dot(x_test.T).T\n",
    "\n",
    "\n",
    "tpr_exp(x_test, debiased_x_train, debiased_x_test, \\\n",
    "        y_m_train, y_m_test, y_p_test, y_pred_before, p2i, i2p)"
   ]
  },
  {
   "cell_type": "code",
   "execution_count": 36,
   "id": "e8fe2da0",
   "metadata": {},
   "outputs": [],
   "source": [
    "print(\"=========================================== Start of 05_all ===========================================\")\n",
    "\n",
    "saved_dataset = np.load(f\"data/old/fair_emoji_sent_race/0.5/all.npz\")\n",
    "\n",
    "x_train = saved_dataset['x_train']\n",
    "y_m_train = saved_dataset['y_m_train']\n",
    "y_p_train = saved_dataset['y_p_train']\n",
    "\n",
    "x_dev = saved_dataset['x_dev']\n",
    "y_p_dev = saved_dataset['y_p_dev']\n",
    "y_m_dev = saved_dataset['y_m_dev']\n",
    "\n",
    "saved_model = scipy.io.loadmat('data/projection_matrix/05_all/old_paper.mat')\n",
    "U_experiment = saved_model['U_experiment']\n",
    "U_best = saved_model['U_best']\n",
    "print(\"=========================================== Start of 05_all assignment U ===========================================\")\n",
    "\n",
    "results = check_result(U_experiment, [2], x_train, x_dev, y_m_train, y_m_dev, y_p_train, y_p_dev)\n",
    "print(results)\n",
    "\n",
    "print(\"=========================================== Start of 05_all best U ===========================================\")\n",
    "\n",
    "results = check_result(U_best, [2], x_train, x_dev, y_m_train, y_m_dev, y_p_train, y_p_dev)\n",
    "print(results)\n"
   ]
  },
  {
   "cell_type": "code",
   "execution_count": 47,
   "id": "66cc8e2e",
   "metadata": {},
   "outputs": [
    {
     "data": {
      "text/plain": [
       "defaultdict(dict,\n",
       "            {2: {'p_acc': 0.49449862465616407,\n",
       "              'biased_diff_tpr': 0.13599493058677786,\n",
       "              'debiased_diff_tpr': 0.10104150451844744,\n",
       "              'biased_acc': 0.7664416104026006,\n",
       "              'debiased_acc': 0.7645661415353838}})"
      ]
     },
     "execution_count": 47,
     "metadata": {},
     "output_type": "execute_result"
    }
   ],
   "source": []
  },
  {
   "cell_type": "code",
   "execution_count": null,
   "id": "5d6ee2f8",
   "metadata": {},
   "outputs": [],
   "source": []
  },
  {
   "cell_type": "code",
   "execution_count": null,
   "id": "552a7286",
   "metadata": {},
   "outputs": [],
   "source": []
  },
  {
   "cell_type": "code",
   "execution_count": 1,
   "id": "32a62511",
   "metadata": {},
   "outputs": [],
   "source": [
    "import sys\n",
    "sys.path.append(\"../CCA_debiase/\")\n",
    "sys.path.append(\"../CCA_debiase/src\")\n",
    "import debias\n",
    "import numpy as np\n",
    "from sklearn.linear_model import LogisticRegression\n",
    "import random\n",
    "from collections import defaultdict, Counter\n",
    "from typing import List\n",
    "import matplotlib.pyplot as plt\n",
    "import scipy.io\n",
    "from scipy.stats.stats import pearsonr\n",
    "from sklearn.svm import LinearSVC\n",
    "from sklearn.linear_model import SGDClassifier\n",
    "import time"
   ]
  },
  {
   "cell_type": "code",
   "execution_count": 2,
   "id": "fbf29ba3",
   "metadata": {},
   "outputs": [],
   "source": [
    "def rms(arr):\n",
    "    return np.sqrt(np.mean(np.square(arr)))\n",
    "    \n",
    "def load_dictionary(path):\n",
    "    \n",
    "    with open(path, \"r\", encoding = \"utf-8\") as f:\n",
    "        \n",
    "        lines = f.readlines()\n",
    "        \n",
    "    k2v, v2k = {}, {}\n",
    "    for line in lines:\n",
    "        \n",
    "        k,v = line.strip().split(\"\\t\")\n",
    "        v = int(v)\n",
    "        k2v[k] = v\n",
    "        v2k[v] = k\n",
    "    \n",
    "    return k2v, v2k\n",
    "\n",
    "\n",
    "\n",
    "def get_TPR(y_pred, y_true, p2i, i2p, y_p_test):\n",
    "    gender = np.where(y_p_test == 1, 'f', 'm')\n",
    "    scores = defaultdict(Counter)\n",
    "    prof_count_total = defaultdict(Counter)\n",
    "    \n",
    "    for y_hat, y, g in zip(y_pred, y_true, gender):\n",
    "        \n",
    "        if y == y_hat:\n",
    "            \n",
    "            scores[i2p[y]][g] += 1\n",
    "        \n",
    "        prof_count_total[i2p[y]][g] += 1\n",
    "    \n",
    "    tprs = defaultdict(dict)\n",
    "    tprs_change = dict()\n",
    "    tprs_ratio = []\n",
    "    \n",
    "    for profession, scores_dict in scores.items():\n",
    "        \n",
    "        good_m, good_f = scores_dict[\"m\"], scores_dict[\"f\"]\n",
    "        prof_total_f = prof_count_total[profession][\"f\"]\n",
    "        prof_total_m = prof_count_total[profession][\"m\"]\n",
    "        if prof_total_m > 0 and prof_total_f > 0:\n",
    "            tpr_m = (good_m) / prof_total_m\n",
    "            tpr_f = (good_f) / prof_total_f\n",
    "\n",
    "            tprs[profession][\"m\"] = tpr_m\n",
    "            tprs[profession][\"f\"] = tpr_f\n",
    "            tprs_ratio.append(0)\n",
    "            tprs_change[profession] = tpr_f - tpr_m\n",
    "        else:\n",
    "            print(f\"profession {profession} missed in tpr-calc:\\n\\\n",
    "                  number of {profession} male in test set {prof_total_m}\\n\\\n",
    "                  number of {profession} female in test set {prof_total_f}\\n\\n\")\n",
    "        \n",
    "    return tprs, tprs_change, np.mean(np.abs(tprs_ratio))\n",
    "    \n",
    "def similarity_vs_tpr(tprs, word2vec, title, measure, prof2fem):\n",
    "    \n",
    "    professions = list(tprs.keys())\n",
    "    #\n",
    "    \"\"\" \n",
    "    sims = dict()\n",
    "    gender_direction = word2vec[\"he\"] - word2vec[\"she\"]\n",
    "    \n",
    "    for p in professions:\n",
    "        sim = word2vec.cosine_similarities(word2vec[p], [gender_direction])[0]\n",
    "        sims[p] = sim\n",
    "    \"\"\"\n",
    "    tpr_lst = [tprs[p] for p in professions]\n",
    "    sim_lst = [prof2fem[p] for p in professions]\n",
    "\n",
    "    #professions = [p.replace(\"_\", \" \") for p in professions if p in word2vec]\n",
    "    \n",
    "    plt.plot(sim_lst, tpr_lst, marker = \"o\", linestyle = \"none\")\n",
    "    plt.xlabel(\"% women\", fontsize = 13)\n",
    "    plt.ylabel(r'$GAP_{female,y}^{TPR}$', fontsize = 13)\n",
    "    for p in professions:\n",
    "        x,y = prof2fem[p], tprs[p]\n",
    "        plt.annotate(p , (x,y), size = 7, color = \"red\")\n",
    "    plt.ylim(-0.4, 0.55)\n",
    "    z = np.polyfit(sim_lst, tpr_lst, 1)\n",
    "    p = np.poly1d(z)\n",
    "    plt.plot(sim_lst,p(sim_lst),\"r--\")\n",
    "    plt.savefig(\"{}_vs_bias_{}_bert\".format(measure, title), dpi = 600)\n",
    "    print(\"Correlation: {}; p-value: {}\".format(*pearsonr(sim_lst, tpr_lst)))\n",
    "    plt.show()\n",
    "\n",
    "def rms_diff(tpr_diff):\n",
    "    \n",
    "    return np.sqrt(np.mean(tpr_diff**2))\n",
    "\n",
    "def tpr_exp(x_test, debiased_x_train, debiased_x_test, y_m_train, y_m_test, y_p_test, y_pred_before, p2i, i2p):\n",
    "\n",
    "    tprs_before, tprs_change_before, mean_ratio_before = get_TPR(y_pred_before, y_m_test, p2i, i2p, y_p_test)\n",
    "    similarity_vs_tpr(tprs_change_before, None, \"before\", \"TPR\", prof2fem)\n",
    "\n",
    "    clf_debiased = LogisticRegression(warm_start = True, penalty = 'l2',\n",
    "                             solver = \"saga\", multi_class = 'multinomial', fit_intercept = False,\n",
    "                             verbose = 5, n_jobs = 90, random_state = 1, max_iter = 100)\n",
    "\n",
    "    clf_debiased.fit(debiased_x_train, y_m_train)\n",
    "    print(f\"\\n\\n\\n================================================\\\n",
    "                \\nSCORE: of profession classifier on debiased train dataset\\\n",
    "                \\n{clf_debiased.score(debiased_x_train, y_m_train)}\\\n",
    "                \\nSCORE: of profession classifier on debiased test dataset\\\n",
    "                \\n{clf_debiased.score(debiased_x_test, y_m_test)}\\\n",
    "                \\n================================================\\n\\n\\n\")\n",
    "    y_pred_after_train = clf_debiased.predict(debiased_x_train)\n",
    "    tprs, tprs_change_after_train, mean_ratio_after = get_TPR(y_pred_after_train, y_m_test, p2i, i2p, y_p_test)\n",
    "    similarity_vs_tpr(tprs_change_after_train, None, \"after\", \"TPR\", prof2fem)\n",
    "    \n",
    "    y_pred_after_test = clf_debiased.predict(debiased_x_test)\n",
    "    tprs, tprs_change_after_test, mean_ratio_after = get_TPR(y_pred_after_test, y_m_test, p2i, i2p, y_p_test)\n",
    "    similarity_vs_tpr(tprs_change_after_test, None, \"after\", \"TPR\", prof2fem)\n",
    "\n",
    "    change_vals_before = np.array(list((tprs_change_before.values())))\n",
    "    change_vals_after_train = np.array(list(tprs_change_after_train.values()))\n",
    "    change_vals_after_test = np.array(list(tprs_change_after_test.values()))\n",
    "\n",
    "    print(\"rms-diff before: {}; rms-diff after for train set: {}; rms-diff after for test set: {}\".format(rms_diff(change_vals_before), rms_diff(change_vals_after_train), rms_diff(change_vals_after_test)))\n",
    "\n",
    "def get_TPR_deepmoji(y_main, y_hat_main, y_protected):\n",
    "    \n",
    "    all_y = list(Counter(y_main).keys())\n",
    "    \n",
    "    protected_vals = defaultdict(dict)\n",
    "    for label in all_y:\n",
    "        for i in range(2):\n",
    "            used_vals = (y_main == label) & (y_protected == i)\n",
    "            y_label = y_main[used_vals]\n",
    "            y_hat_label = y_hat_main[used_vals]\n",
    "            protected_vals['y:{}'.format(label)]['p:{}'.format(i)] = (y_label == y_hat_label).mean()\n",
    "            \n",
    "    diffs = {}\n",
    "    for k, v in protected_vals.items():\n",
    "        vals = list(v.values())\n",
    "        diffs[k] = vals[0] - vals[1]\n",
    "    return protected_vals, diffs"
   ]
  },
  {
   "cell_type": "code",
   "execution_count": 3,
   "id": "b8c60960",
   "metadata": {},
   "outputs": [
    {
     "name": "stdout",
     "output_type": "stream",
     "text": [
      "=========================================== Start of Biography Dataset ===========================================\n",
      "=========================================== Start of BERT ===========================================\n"
     ]
    }
   ],
   "source": [
    "print(\"=========================================== Start of Biography Dataset ===========================================\")\n",
    "\n",
    "p2i, i2p = load_dictionary(\"data/old/profession2index.txt\")\n",
    "g2i, i2g = load_dictionary(\"data/old/gender2index.txt\")\n",
    "prof2fem = {'professor': 0.4533699535765501, 'psychologist': 0.627327974906881, 'pastor': 0.2583668005354752, 'comedian': 0.21605667060212513, 'nurse': 0.9126009126009126, 'yoga_teacher': 0.825, 'attorney': 0.3766122913505311, 'photographer': 0.3563658099222953, 'composer': 0.16329625884732052, 'model': 0.7858407079646018, 'surgeon': 0.12832108535895986, 'physician': 0.4158485273492286, 'software_engineer': 0.17130434782608694, 'poet': 0.5133630289532294, 'painter': 0.47116788321167885, 'dj': 0.1636828644501279, 'journalist': 0.5159589626674266, 'architect': 0.23372781065088757, 'paralegal': 0.8618677042801557, 'dentist': 0.3672911787665886, 'personal_trainer': 0.4410377358490566, 'teacher': 0.5943396226415094, 'accountant': 0.3950091296409008, 'interior_designer': 0.7874493927125507, 'dietitian': 0.934412955465587, 'filmmaker': 0.3533007334963325, 'chiropractor': 0.3069908814589666, 'rapper': 0.09438775510204081}\n",
    "\n",
    "print(\"=========================================== Start of BERT ===========================================\")\n",
    "\n",
    "saved_dataset = scipy.io.loadmat('data/projection_matrix/BERT/old_paper.mat')\n",
    "x_train = saved_dataset['best_iter_X']\n",
    "y_p_train = saved_dataset['best_iter_original_Z']\n",
    "\n",
    "saved_dataset = scipy.io.loadmat('data/old/BERT.mat')\n",
    "x_dev = saved_dataset['x_dev']\n",
    "y_p_dev = saved_dataset['y_p_dev']\n",
    "y_m_dev = saved_dataset['y_m_dev']\n",
    "\n",
    "x_test = saved_dataset['x_test']\n",
    "y_p_test = saved_dataset['y_p_test']\n",
    "y_m_test = saved_dataset['y_m_test']\n",
    "\n",
    "saved_dataset = np.load('data/projection_matrix/BERT/old_paper_y_p_train.npz')\n",
    "y_m_train = saved_dataset['y_m_train']\n",
    "\n",
    "y_p_dev = y_p_dev.reshape((-1, ))\n",
    "y_m_dev = y_m_dev.reshape((-1, ))\n",
    "y_p_train = y_p_train[:, 0]\n",
    "y_p_train = y_p_train.reshape((-1, ))\n",
    "y_m_train = y_m_train.reshape((-1, ))\n",
    "y_p_test = y_p_test.reshape((-1, ))\n",
    "y_m_test = y_m_test.reshape((-1, ))"
   ]
  },
  {
   "cell_type": "code",
   "execution_count": 4,
   "id": "a3249a90",
   "metadata": {},
   "outputs": [
    {
     "data": {
      "text/plain": [
       "((30000, 768), (30000,), (30000,), (11550, 768), (11550,), (11550,))"
      ]
     },
     "execution_count": 4,
     "metadata": {},
     "output_type": "execute_result"
    }
   ],
   "source": [
    "x_train.shape, y_p_train.shape, y_m_train.shape, x_dev.shape, y_p_dev.shape , y_m_dev.shape"
   ]
  },
  {
   "cell_type": "code",
   "execution_count": 10,
   "id": "c674fabb",
   "metadata": {},
   "outputs": [],
   "source": [
    "relevant_idx_train = y_m_train == 8\n",
    "relevant_idx_dev = y_m_dev == 8"
   ]
  },
  {
   "cell_type": "code",
   "execution_count": 11,
   "id": "70346eda",
   "metadata": {},
   "outputs": [
    {
     "data": {
      "text/plain": [
       "array([[-0.12482897,  0.03356773,  0.1236054 , ..., -0.53838801,\n",
       "         0.91860729,  0.13197938],\n",
       "       [-0.59334022,  0.22086598, -0.55451876, ...,  0.42952535,\n",
       "         0.67205733, -0.25524524],\n",
       "       [ 0.04906146, -0.1709239 ,  0.17991289, ..., -0.2165667 ,\n",
       "         0.43702433,  0.34172592],\n",
       "       ...,\n",
       "       [-0.2287855 , -0.06744821,  0.02960668, ..., -0.20763612,\n",
       "         0.42192128, -0.54273915],\n",
       "       [-0.27720395,  0.07024824,  0.19508611, ..., -0.16296792,\n",
       "         0.40294939, -0.19058378],\n",
       "       [-0.4049989 , -0.40233558, -0.24761495, ...,  0.19096698,\n",
       "         0.60444623,  0.01177378]])"
      ]
     },
     "execution_count": 11,
     "metadata": {},
     "output_type": "execute_result"
    }
   ],
   "source": [
    "x_train[relevant_idx_train]"
   ]
  },
  {
   "cell_type": "code",
   "execution_count": 12,
   "id": "acf99eb5",
   "metadata": {},
   "outputs": [
    {
     "data": {
      "text/plain": [
       "array([[ 0.06825642,  0.00406375,  0.242547  , ..., -0.10528749,\n",
       "         0.47306883,  0.00134006],\n",
       "       [ 0.03298733,  0.11628118,  0.06418076, ..., -0.12553914,\n",
       "         0.5961749 ,  0.05387819],\n",
       "       [-0.07032021, -0.30232808,  0.31861138, ...,  0.11906028,\n",
       "        -0.07829987,  0.35936216],\n",
       "       ...,\n",
       "       [ 0.17469877, -0.17766804,  0.439677  , ...,  0.28708568,\n",
       "         0.39433587,  0.20887418],\n",
       "       [ 0.6403455 , -0.36949852, -0.05983313, ..., -0.16163743,\n",
       "         0.4426308 ,  0.3086289 ],\n",
       "       [-0.28236443,  0.22111386,  0.41557044, ..., -0.31951952,\n",
       "         0.28200287, -0.37972447]], dtype=float32)"
      ]
     },
     "execution_count": 12,
     "metadata": {},
     "output_type": "execute_result"
    }
   ],
   "source": [
    "x_dev[relevant_idx_dev]"
   ]
  },
  {
   "cell_type": "code",
   "execution_count": 6,
   "id": "32c2d712",
   "metadata": {},
   "outputs": [
    {
     "data": {
      "text/plain": [
       "(11550, 768)"
      ]
     },
     "execution_count": 6,
     "metadata": {},
     "output_type": "execute_result"
    }
   ],
   "source": [
    "x_dev.shape"
   ]
  },
  {
   "cell_type": "code",
   "execution_count": null,
   "id": "59206d68",
   "metadata": {},
   "outputs": [],
   "source": []
  },
  {
   "cell_type": "code",
   "execution_count": 4,
   "id": "cb622e34",
   "metadata": {},
   "outputs": [
    {
     "name": "stderr",
     "output_type": "stream",
     "text": [
      "iteration: 299, accuracy: 0.5129151291512916: 100%|█████████████████████████████████████████████████████████████████████████████| 300/300 [05:59<00:00,  1.20s/it]\n"
     ]
    },
    {
     "name": "stdout",
     "output_type": "stream",
     "text": [
      "time: 360.7653434276581\n"
     ]
    },
    {
     "ename": "NameError",
     "evalue": "name 'y_pred_before' is not defined",
     "output_type": "error",
     "traceback": [
      "\u001b[0;31m---------------------------------------------------------------------------\u001b[0m",
      "\u001b[0;31mNameError\u001b[0m                                 Traceback (most recent call last)",
      "\u001b[0;32m/tmp/ipykernel_1183825/2442702405.py\u001b[0m in \u001b[0;36m<module>\u001b[0;34m\u001b[0m\n\u001b[1;32m     18\u001b[0m \u001b[0;34m\u001b[0m\u001b[0m\n\u001b[1;32m     19\u001b[0m tpr_exp(x_test, debiased_x_train, debiased_x_test, \\\n\u001b[0;32m---> 20\u001b[0;31m         y_m_train, y_m_test, y_p_test, y_pred_before, p2i, i2p)\n\u001b[0m\u001b[1;32m     21\u001b[0m \u001b[0;34m\u001b[0m\u001b[0m\n",
      "\u001b[0;31mNameError\u001b[0m: name 'y_pred_before' is not defined"
     ]
    }
   ],
   "source": [
    "start = time.time()\n",
    "is_autoregressive = True\n",
    "min_acc = 0.\n",
    "dim = 768\n",
    "n = 300\n",
    "TYPE= \"svm\"\n",
    "gender_clf = LinearSVC\n",
    "params = {'penalty': 'l2', 'C': 0.01, 'fit_intercept': True, 'class_weight': None, \"dual\": False}\n",
    "    \n",
    "P,rowspace_projections, Ws = debias.get_debiasing_projection(gender_clf, params, n, dim, is_autoregressive, min_acc,\n",
    "                                    x_train, y_p_train, x_dev, y_p_dev,\n",
    "                                    Y_train_main=y_m_train, Y_dev_main=y_m_dev, by_class = True)\n",
    "print(\"time: {}\".format(time.time() - start))\n",
    "\n",
    "\n",
    "\n"
   ]
  },
  {
   "cell_type": "code",
   "execution_count": 5,
   "id": "96210298",
   "metadata": {},
   "outputs": [
    {
     "name": "stderr",
     "output_type": "stream",
     "text": [
      "[Parallel(n_jobs=90)]: Using backend ThreadingBackend with 90 concurrent workers.\n"
     ]
    },
    {
     "name": "stdout",
     "output_type": "stream",
     "text": [
      "max_iter reached after 25 seconds\n",
      "Score of profession classifier on original(biased) dataset \n",
      "0.7865612648221344\n"
     ]
    },
    {
     "name": "stderr",
     "output_type": "stream",
     "text": [
      "/work/sc066/sc066/shunshao/anaconda3/envs/ksal/lib/python3.7/site-packages/sklearn/linear_model/_sag.py:329: ConvergenceWarning: The max_iter was reached which means the coef_ did not converge\n",
      "  \"the coef_ did not converge\", ConvergenceWarning)\n",
      "[Parallel(n_jobs=90)]: Done   1 out of   1 | elapsed:   24.5s finished\n"
     ]
    },
    {
     "name": "stdout",
     "output_type": "stream",
     "text": [
      "Correlation: 0.8868905041838208; p-value: 3.2997804523961903e-10\n"
     ]
    },
    {
     "data": {
      "image/png": "[encoded data removed]",
      "text/plain": [
       "<Figure size 432x288 with 1 Axes>"
      ]
     },
     "metadata": {
      "needs_background": "light"
     },
     "output_type": "display_data"
    },
    {
     "name": "stderr",
     "output_type": "stream",
     "text": [
      "[Parallel(n_jobs=90)]: Using backend ThreadingBackend with 90 concurrent workers.\n"
     ]
    },
    {
     "name": "stdout",
     "output_type": "stream",
     "text": [
      "convergence after 78 epochs took 254 seconds\n",
      "\n",
      "\n",
      "\n",
      "================================================                \n",
      "SCORE: of profession classifier on debiased train dataset                \n",
      "0.7046333333333333                \n",
      "SCORE: of profession classifier on debiased test dataset                \n",
      "0.6469384924762499                \n",
      "================================================\n",
      "\n",
      "\n",
      "\n"
     ]
    },
    {
     "name": "stderr",
     "output_type": "stream",
     "text": [
      "[Parallel(n_jobs=90)]: Done   1 out of   1 | elapsed:  4.2min finished\n"
     ]
    },
    {
     "name": "stdout",
     "output_type": "stream",
     "text": [
      "Correlation: 0.20043246444178253; p-value: 0.4106495056226134\n"
     ]
    },
    {
     "data": {
      "image/png": "[encoded data removed]",
      "text/plain": [
       "<Figure size 432x288 with 1 Axes>"
      ]
     },
     "metadata": {
      "needs_background": "light"
     },
     "output_type": "display_data"
    },
    {
     "name": "stdout",
     "output_type": "stream",
     "text": [
      "Correlation: 0.2868955972633461; p-value: 0.15531200382794713\n"
     ]
    },
    {
     "data": {
      "image/png": "[encoded data removed]",
      "text/plain": [
       "<Figure size 432x288 with 1 Axes>"
      ]
     },
     "metadata": {
      "needs_background": "light"
     },
     "output_type": "display_data"
    },
    {
     "name": "stdout",
     "output_type": "stream",
     "text": [
      "rms-diff before: 0.22369200684823834; rms-diff after for train set: 0.011574428988523221; rms-diff after for test set: 0.07261375649100146\n"
     ]
    }
   ],
   "source": [
    "random.seed(0)\n",
    "np.random.seed(0)\n",
    "\n",
    "clf_original = LogisticRegression(warm_start = True, penalty = 'l2',\n",
    "                         solver = \"saga\", multi_class = 'multinomial', fit_intercept = False,\n",
    "                         verbose = 5, n_jobs = 90, random_state = 1, max_iter = 7)\n",
    "                         \n",
    "\n",
    "clf_original.fit(x_train, y_m_train)\n",
    "print(f\"Score of profession classifier on original(biased) dataset \\n{clf_original.score(x_test, y_m_test)}\")\n",
    "\n",
    "y_pred_before = clf_original.predict(x_test)\n",
    "\n",
    "debiased_x_train = P.dot(x_train.T).T\n",
    "debiased_x_dev = P.dot(x_dev.T).T\n",
    "debiased_x_test = P.dot(x_test.T).T\n",
    "\n",
    "tpr_exp(x_test, debiased_x_train, debiased_x_test, \\\n",
    "        y_m_train, y_m_test, y_p_test, y_pred_before, p2i, i2p)"
   ]
  },
  {
   "cell_type": "code",
   "execution_count": null,
   "id": "347cc800",
   "metadata": {},
   "outputs": [],
   "source": []
  }
 ],
 "metadata": {
  "kernelspec": {
   "display_name": "Python 3 (ipykernel)",
   "language": "python",
   "name": "python3"
  },
  "language_info": {
   "codemirror_mode": {
    "name": "ipython",
    "version": 3
   },
   "file_extension": ".py",
   "mimetype": "text/x-python",
   "name": "python",
   "nbconvert_exporter": "python",
   "pygments_lexer": "ipython3",
   "version": "3.7.11"
  }
 },
 "nbformat": 4,
 "nbformat_minor": 5
}

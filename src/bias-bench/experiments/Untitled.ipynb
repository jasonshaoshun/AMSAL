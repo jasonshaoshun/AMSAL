{
 "cells": [
  {
   "cell_type": "code",
   "execution_count": 3,
   "id": "b09d5f67",
   "metadata": {},
   "outputs": [],
   "source": [
    "import numpy as np\n",
    "import scipy.io\n",
    "import h5py\n",
    "import torch"
   ]
  },
  {
   "cell_type": "code",
   "execution_count": 50,
   "id": "c887326c",
   "metadata": {},
   "outputs": [
    {
     "name": "stdout",
     "output_type": "stream",
     "text": [
      "/mnt/lustre/indy2lfs/work/sc066/sc066/shunshao/code/bias-bench/experiments\n"
     ]
    }
   ],
   "source": [
    "# cd ../../../../bias-bench/experiments/\n",
    "# cd ../../new_sal/data_in_mat/projection_matrix"
   ]
  },
  {
   "cell_type": "code",
   "execution_count": 3,
   "id": "258cc3dc",
   "metadata": {},
   "outputs": [
    {
     "name": "stdout",
     "output_type": "stream",
     "text": [
      "\u001b[0m\u001b[38;5;33m05_all\u001b[0m/       \u001b[38;5;33mBERT\u001b[0m/       \u001b[38;5;33mFastText\u001b[0m/   religion.mat   \u001b[38;5;33mword_embeddings\u001b[0m/\r\n",
      "\u001b[38;5;33mAlbertModel\u001b[0m/  \u001b[38;5;33mBertModel\u001b[0m/  \u001b[38;5;33mGPT2Model\u001b[0m/  \u001b[38;5;33mRobertaModel\u001b[0m/\r\n"
     ]
    }
   ],
   "source": [
    "ls"
   ]
  },
  {
   "cell_type": "code",
   "execution_count": 4,
   "id": "07b16f01",
   "metadata": {},
   "outputs": [
    {
     "name": "stdout",
     "output_type": "stream",
     "text": [
      "/mnt/lustre/indy2lfs/work/sc066/sc066/shunshao/code/new_sal/data_in_mat/projection_matrix/BertModel\n"
     ]
    }
   ],
   "source": [
    "cd BertModel/"
   ]
  },
  {
   "cell_type": "code",
   "execution_count": 5,
   "id": "dd05ae6c",
   "metadata": {},
   "outputs": [
    {
     "name": "stdout",
     "output_type": "stream",
     "text": [
      "gender.mat  race.mat  religion.mat\r\n"
     ]
    }
   ],
   "source": [
    "ls"
   ]
  },
  {
   "cell_type": "code",
   "execution_count": 4,
   "id": "ce15f1e5",
   "metadata": {},
   "outputs": [
    {
     "name": "stderr",
     "output_type": "stream",
     "text": [
      "/work/sc066/sc066/shunshao/anaconda3/envs/ksal/lib/python3.7/site-packages/ipykernel_launcher.py:9: H5pyDeprecationWarning: The default file mode will change to 'r' (read-only) in h5py 3.0. To suppress this warning, pass the mode you need to h5py.File(), or set the global default h5.get_config().default_file_mode, or set the environment variable H5PY_DEFAULT_READONLY=1. Available modes are: 'r', 'r+', 'w', 'w-'/'x', 'a'. See the docs for details.\n",
      "  if __name__ == '__main__':\n"
     ]
    },
    {
     "name": "stdout",
     "output_type": "stream",
     "text": [
      "(768, 768)\n",
      "(768, 768)\n",
      "(768, 768)\n",
      "(768, 768)\n",
      "(768, 768)\n",
      "(768, 768)\n",
      "(768, 768)\n",
      "(768, 768)\n",
      "(768, 768)\n"
     ]
    }
   ],
   "source": [
    "all_models=[\"BertModel\", \"AlbertModel\", \"RobertaModel\", \"GPT2Model\"]\n",
    "all_bias_types=[\"gender\", \"race\", \"religion\"]\n",
    "\n",
    "for model_name in all_models:\n",
    "    for bias_type in all_bias_types:\n",
    "        filepath = \"../../new_sal/data_in_mat/projection_matrix/{}/{}.mat\".format(model_name, bias_type)\n",
    "        arrays = {}\n",
    "        f = h5py.File(filepath)\n",
    "        for k, v in f.items():\n",
    "            arrays[k] = np.array(v)\n",
    "        UU = np.dot(arrays['U'].T, arrays['U'])\n",
    "        print(UU.shape)\n",
    "        P = torch.tensor(UU, dtype=torch.float32)\n",
    "        torch.save(P, \"../../new_sal/data_in_mat/projection_matrix/{}/{}.pt\".format(model_name, bias_type),)"
   ]
  },
  {
   "cell_type": "code",
   "execution_count": 7,
   "id": "9fa4a6e6",
   "metadata": {},
   "outputs": [],
   "source": []
  }
 ],
 "metadata": {
  "kernelspec": {
   "display_name": "Python 3 (ipykernel)",
   "language": "python",
   "name": "python3"
  },
  "language_info": {
   "codemirror_mode": {
    "name": "ipython",
    "version": 3
   },
   "file_extension": ".py",
   "mimetype": "text/x-python",
   "name": "python",
   "nbconvert_exporter": "python",
   "pygments_lexer": "ipython3",
   "version": "3.7.11"
  }
 },
 "nbformat": 4,
 "nbformat_minor": 5
}
